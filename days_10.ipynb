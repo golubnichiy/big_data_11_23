{
 "cells": [
  {
   "cell_type": "markdown",
   "metadata": {},
   "source": [
    "## Набор данных про фейковые новости"
   ]
  },
  {
   "cell_type": "markdown",
   "metadata": {},
   "source": [
    "### Импортируем библиотеки"
   ]
  },
  {
   "cell_type": "code",
   "execution_count": 25,
   "metadata": {},
   "outputs": [],
   "source": [
    "import numpy as np\n",
    "import pandas as pd\n",
    "\n",
    "import matplotlib.pyplot as plt\n",
    "import seaborn as sns\n",
    "\n",
    "from datetime import datetime\n",
    "\n",
    "import warnings\n",
    "warnings.filterwarnings(\"ignore\")\n",
    "\n",
    "import tensorflow as tf"
   ]
  },
  {
   "cell_type": "markdown",
   "metadata": {},
   "source": [
    "### Загрузка датасета"
   ]
  },
  {
   "cell_type": "code",
   "execution_count": 26,
   "metadata": {},
   "outputs": [
    {
     "name": "stdout",
     "output_type": "stream",
     "text": [
      "(23481, 4)\n",
      "                                               title  \\\n",
      "0   Donald Trump Sends Out Embarrassing New Year’...   \n",
      "1   Drunk Bragging Trump Staffer Started Russian ...   \n",
      "2   Sheriff David Clarke Becomes An Internet Joke...   \n",
      "3   Trump Is So Obsessed He Even Has Obama’s Name...   \n",
      "4   Pope Francis Just Called Out Donald Trump Dur...   \n",
      "\n",
      "                                                text subject  \\\n",
      "0  Donald Trump just couldn t wish all Americans ...    News   \n",
      "1  House Intelligence Committee Chairman Devin Nu...    News   \n",
      "2  On Friday, it was revealed that former Milwauk...    News   \n",
      "3  On Christmas day, Donald Trump announced that ...    News   \n",
      "4  Pope Francis used his annual Christmas Day mes...    News   \n",
      "\n",
      "                date  \n",
      "0  December 31, 2017  \n",
      "1  December 31, 2017  \n",
      "2  December 30, 2017  \n",
      "3  December 29, 2017  \n",
      "4  December 25, 2017  \n"
     ]
    }
   ],
   "source": [
    "fake_news = pd.read_csv(\"Fake.csv\")\n",
    "print(fake_news.shape)\n",
    "print(fake_news.head())"
   ]
  },
  {
   "cell_type": "code",
   "execution_count": 27,
   "metadata": {},
   "outputs": [
    {
     "name": "stdout",
     "output_type": "stream",
     "text": [
      "(21417, 4)\n",
      "                                               title  \\\n",
      "0  As U.S. budget fight looms, Republicans flip t...   \n",
      "1  U.S. military to accept transgender recruits o...   \n",
      "2  Senior U.S. Republican senator: 'Let Mr. Muell...   \n",
      "3  FBI Russia probe helped by Australian diplomat...   \n",
      "4  Trump wants Postal Service to charge 'much mor...   \n",
      "\n",
      "                                                text       subject  \\\n",
      "0  WASHINGTON (Reuters) - The head of a conservat...  politicsNews   \n",
      "1  WASHINGTON (Reuters) - Transgender people will...  politicsNews   \n",
      "2  WASHINGTON (Reuters) - The special counsel inv...  politicsNews   \n",
      "3  WASHINGTON (Reuters) - Trump campaign adviser ...  politicsNews   \n",
      "4  SEATTLE/WASHINGTON (Reuters) - President Donal...  politicsNews   \n",
      "\n",
      "                 date  \n",
      "0  December 31, 2017   \n",
      "1  December 29, 2017   \n",
      "2  December 31, 2017   \n",
      "3  December 30, 2017   \n",
      "4  December 29, 2017   \n"
     ]
    }
   ],
   "source": [
    "true_news = pd.read_csv(\"True.csv\")\n",
    "print(true_news.shape)\n",
    "print(true_news.head())"
   ]
  },
  {
   "cell_type": "code",
   "execution_count": 28,
   "metadata": {},
   "outputs": [
    {
     "name": "stdout",
     "output_type": "stream",
     "text": [
      "                                               title  \\\n",
      "0   Donald Trump Sends Out Embarrassing New Year’...   \n",
      "1   Drunk Bragging Trump Staffer Started Russian ...   \n",
      "2   Sheriff David Clarke Becomes An Internet Joke...   \n",
      "3   Trump Is So Obsessed He Even Has Obama’s Name...   \n",
      "4   Pope Francis Just Called Out Donald Trump Dur...   \n",
      "\n",
      "                                                text subject  \\\n",
      "0  Donald Trump just couldn t wish all Americans ...    News   \n",
      "1  House Intelligence Committee Chairman Devin Nu...    News   \n",
      "2  On Friday, it was revealed that former Milwauk...    News   \n",
      "3  On Christmas day, Donald Trump announced that ...    News   \n",
      "4  Pope Francis used his annual Christmas Day mes...    News   \n",
      "\n",
      "                date  fake  \n",
      "0  December 31, 2017     1  \n",
      "1  December 31, 2017     1  \n",
      "2  December 30, 2017     1  \n",
      "3  December 29, 2017     1  \n",
      "4  December 25, 2017     1  \n"
     ]
    }
   ],
   "source": [
    "fake_news[\"fake\"] = 1\n",
    "print(fake_news.head())"
   ]
  },
  {
   "cell_type": "code",
   "execution_count": 29,
   "metadata": {},
   "outputs": [
    {
     "name": "stdout",
     "output_type": "stream",
     "text": [
      "                                               title  \\\n",
      "0  As U.S. budget fight looms, Republicans flip t...   \n",
      "1  U.S. military to accept transgender recruits o...   \n",
      "2  Senior U.S. Republican senator: 'Let Mr. Muell...   \n",
      "3  FBI Russia probe helped by Australian diplomat...   \n",
      "4  Trump wants Postal Service to charge 'much mor...   \n",
      "\n",
      "                                                text       subject  \\\n",
      "0  WASHINGTON (Reuters) - The head of a conservat...  politicsNews   \n",
      "1  WASHINGTON (Reuters) - Transgender people will...  politicsNews   \n",
      "2  WASHINGTON (Reuters) - The special counsel inv...  politicsNews   \n",
      "3  WASHINGTON (Reuters) - Trump campaign adviser ...  politicsNews   \n",
      "4  SEATTLE/WASHINGTON (Reuters) - President Donal...  politicsNews   \n",
      "\n",
      "                 date  fake  \n",
      "0  December 31, 2017      0  \n",
      "1  December 29, 2017      0  \n",
      "2  December 31, 2017      0  \n",
      "3  December 30, 2017      0  \n",
      "4  December 29, 2017      0  \n"
     ]
    }
   ],
   "source": [
    "true_news[\"fake\"] = 0\n",
    "print(true_news.head())"
   ]
  },
  {
   "cell_type": "markdown",
   "metadata": {},
   "source": [
    "### Создание общего датасета"
   ]
  },
  {
   "cell_type": "code",
   "execution_count": 30,
   "metadata": {},
   "outputs": [
    {
     "data": {
      "text/html": [
       "<div>\n",
       "<style scoped>\n",
       "    .dataframe tbody tr th:only-of-type {\n",
       "        vertical-align: middle;\n",
       "    }\n",
       "\n",
       "    .dataframe tbody tr th {\n",
       "        vertical-align: top;\n",
       "    }\n",
       "\n",
       "    .dataframe thead th {\n",
       "        text-align: right;\n",
       "    }\n",
       "</style>\n",
       "<table border=\"1\" class=\"dataframe\">\n",
       "  <thead>\n",
       "    <tr style=\"text-align: right;\">\n",
       "      <th></th>\n",
       "      <th>title</th>\n",
       "      <th>text</th>\n",
       "      <th>subject</th>\n",
       "      <th>date</th>\n",
       "      <th>fake</th>\n",
       "    </tr>\n",
       "  </thead>\n",
       "  <tbody>\n",
       "    <tr>\n",
       "      <th>5061</th>\n",
       "      <td>Mike Pence Once Said The Most INSANELY LAUGHA...</td>\n",
       "      <td>While it s often useless to talk about things ...</td>\n",
       "      <td>News</td>\n",
       "      <td>August 13, 2016</td>\n",
       "      <td>1</td>\n",
       "    </tr>\n",
       "    <tr>\n",
       "      <th>21348</th>\n",
       "      <td>Slain Philippine teenager's family files murde...</td>\n",
       "      <td>MANILA (Reuters) - The parents and lawyers of ...</td>\n",
       "      <td>worldnews</td>\n",
       "      <td>August 25, 2017</td>\n",
       "      <td>0</td>\n",
       "    </tr>\n",
       "    <tr>\n",
       "      <th>9855</th>\n",
       "      <td>U.S. lawmaker wants hearing on bill to curb sh...</td>\n",
       "      <td>(Reuters) - A U.S. lawmaker has called for a c...</td>\n",
       "      <td>politicsNews</td>\n",
       "      <td>April 20, 2016</td>\n",
       "      <td>0</td>\n",
       "    </tr>\n",
       "    <tr>\n",
       "      <th>20428</th>\n",
       "      <td>BREAKING: FL MUSLIM TERRORIST Worked For Secur...</td>\n",
       "      <td>As a side note, the illegal aliens who are bei...</td>\n",
       "      <td>left-news</td>\n",
       "      <td>Jun 13, 2016</td>\n",
       "      <td>1</td>\n",
       "    </tr>\n",
       "    <tr>\n",
       "      <th>3245</th>\n",
       "      <td>Montana congressman-elect sentenced to communi...</td>\n",
       "      <td>BOZEMAN, Mont. (Reuters) - A Montana Republica...</td>\n",
       "      <td>politicsNews</td>\n",
       "      <td>June 12, 2017</td>\n",
       "      <td>0</td>\n",
       "    </tr>\n",
       "    <tr>\n",
       "      <th>22099</th>\n",
       "      <td>Hollywood Suffers Meltdown Over Trump’s Withdr...</td>\n",
       "      <td>Hollywood is having kittens over US President ...</td>\n",
       "      <td>US_News</td>\n",
       "      <td>June 2, 2017</td>\n",
       "      <td>1</td>\n",
       "    </tr>\n",
       "    <tr>\n",
       "      <th>17663</th>\n",
       "      <td>A rare look inside the 'heart of society' for ...</td>\n",
       "      <td>NAJAF, Iraq (Reuters) - For more than 1,000 ye...</td>\n",
       "      <td>worldnews</td>\n",
       "      <td>October 12, 2017</td>\n",
       "      <td>0</td>\n",
       "    </tr>\n",
       "    <tr>\n",
       "      <th>7189</th>\n",
       "      <td>Bernie Sanders Just Received Some Excellent N...</td>\n",
       "      <td>Bernie Sanders and his supporters just receive...</td>\n",
       "      <td>News</td>\n",
       "      <td>March 31, 2016</td>\n",
       "      <td>1</td>\n",
       "    </tr>\n",
       "    <tr>\n",
       "      <th>1980</th>\n",
       "      <td>White House blocks Obama-era rule expanding pa...</td>\n",
       "      <td>(Reuters) - The Trump administration has block...</td>\n",
       "      <td>politicsNews</td>\n",
       "      <td>August 30, 2017</td>\n",
       "      <td>0</td>\n",
       "    </tr>\n",
       "    <tr>\n",
       "      <th>7328</th>\n",
       "      <td>Trump win opens way for China to take climate ...</td>\n",
       "      <td>WASHINGTON/BEIJING (Reuters) - The election of...</td>\n",
       "      <td>politicsNews</td>\n",
       "      <td>November 11, 2016</td>\n",
       "      <td>0</td>\n",
       "    </tr>\n",
       "  </tbody>\n",
       "</table>\n",
       "</div>"
      ],
      "text/plain": [
       "                                                   title  \\\n",
       "5061    Mike Pence Once Said The Most INSANELY LAUGHA...   \n",
       "21348  Slain Philippine teenager's family files murde...   \n",
       "9855   U.S. lawmaker wants hearing on bill to curb sh...   \n",
       "20428  BREAKING: FL MUSLIM TERRORIST Worked For Secur...   \n",
       "3245   Montana congressman-elect sentenced to communi...   \n",
       "22099  Hollywood Suffers Meltdown Over Trump’s Withdr...   \n",
       "17663  A rare look inside the 'heart of society' for ...   \n",
       "7189    Bernie Sanders Just Received Some Excellent N...   \n",
       "1980   White House blocks Obama-era rule expanding pa...   \n",
       "7328   Trump win opens way for China to take climate ...   \n",
       "\n",
       "                                                    text       subject  \\\n",
       "5061   While it s often useless to talk about things ...          News   \n",
       "21348  MANILA (Reuters) - The parents and lawyers of ...     worldnews   \n",
       "9855   (Reuters) - A U.S. lawmaker has called for a c...  politicsNews   \n",
       "20428  As a side note, the illegal aliens who are bei...     left-news   \n",
       "3245   BOZEMAN, Mont. (Reuters) - A Montana Republica...  politicsNews   \n",
       "22099  Hollywood is having kittens over US President ...       US_News   \n",
       "17663  NAJAF, Iraq (Reuters) - For more than 1,000 ye...     worldnews   \n",
       "7189   Bernie Sanders and his supporters just receive...          News   \n",
       "1980   (Reuters) - The Trump administration has block...  politicsNews   \n",
       "7328   WASHINGTON/BEIJING (Reuters) - The election of...  politicsNews   \n",
       "\n",
       "                     date  fake  \n",
       "5061      August 13, 2016     1  \n",
       "21348    August 25, 2017      0  \n",
       "9855      April 20, 2016      0  \n",
       "20428        Jun 13, 2016     1  \n",
       "3245       June 12, 2017      0  \n",
       "22099        June 2, 2017     1  \n",
       "17663   October 12, 2017      0  \n",
       "7189       March 31, 2016     1  \n",
       "1980     August 30, 2017      0  \n",
       "7328   November 11, 2016      0  "
      ]
     },
     "execution_count": 30,
     "metadata": {},
     "output_type": "execute_result"
    }
   ],
   "source": [
    "news = pd.concat([fake_news, true_news])\n",
    "news.sample(10)"
   ]
  },
  {
   "cell_type": "code",
   "execution_count": 31,
   "metadata": {},
   "outputs": [
    {
     "data": {
      "text/plain": [
       "title      0\n",
       "text       0\n",
       "subject    0\n",
       "date       0\n",
       "fake       0\n",
       "dtype: int64"
      ]
     },
     "execution_count": 31,
     "metadata": {},
     "output_type": "execute_result"
    }
   ],
   "source": [
    "news.isna().sum()"
   ]
  },
  {
   "cell_type": "code",
   "execution_count": 32,
   "metadata": {},
   "outputs": [
    {
     "name": "stdout",
     "output_type": "stream",
     "text": [
      "<class 'pandas.core.frame.DataFrame'>\n",
      "Int64Index: 44898 entries, 0 to 21416\n",
      "Data columns (total 5 columns):\n",
      " #   Column   Non-Null Count  Dtype \n",
      "---  ------   --------------  ----- \n",
      " 0   title    44898 non-null  object\n",
      " 1   text     44898 non-null  object\n",
      " 2   subject  44898 non-null  object\n",
      " 3   date     44898 non-null  object\n",
      " 4   fake     44898 non-null  int64 \n",
      "dtypes: int64(1), object(4)\n",
      "memory usage: 2.1+ MB\n"
     ]
    }
   ],
   "source": [
    "news.info()"
   ]
  },
  {
   "cell_type": "markdown",
   "metadata": {},
   "source": [
    "### Исследовательский анализ данных и визуализация"
   ]
  },
  {
   "cell_type": "code",
   "execution_count": 33,
   "metadata": {},
   "outputs": [
    {
     "data": {
      "text/plain": [
       "<Axes: xlabel='fake', ylabel='count'>"
      ]
     },
     "execution_count": 33,
     "metadata": {},
     "output_type": "execute_result"
    },
    {
     "data": {
      "image/png": "[encoded data removed]",
      "text/plain": [
       "<Figure size 640x480 with 1 Axes>"
      ]
     },
     "metadata": {},
     "output_type": "display_data"
    }
   ],
   "source": [
    "sns.countplot(x=\"fake\", data=news)"
   ]
  },
  {
   "cell_type": "code",
   "execution_count": 34,
   "metadata": {},
   "outputs": [
    {
     "data": {
      "text/plain": [
       "0    Donald Trump just couldn t wish all Americans ...\n",
       "1    House Intelligence Committee Chairman Devin Nu...\n",
       "2    On Friday, it was revealed that former Milwauk...\n",
       "3    On Christmas day, Donald Trump announced that ...\n",
       "4    Pope Francis used his annual Christmas Day mes...\n",
       "Name: text, dtype: object"
      ]
     },
     "execution_count": 34,
     "metadata": {},
     "output_type": "execute_result"
    }
   ],
   "source": [
    "news[news[\"fake\"] == 1][\"text\"].head(5)"
   ]
  },
  {
   "cell_type": "code",
   "execution_count": 35,
   "metadata": {},
   "outputs": [
    {
     "data": {
      "text/plain": [
       "0    WASHINGTON (Reuters) - The head of a conservat...\n",
       "1    WASHINGTON (Reuters) - Transgender people will...\n",
       "2    WASHINGTON (Reuters) - The special counsel inv...\n",
       "3    WASHINGTON (Reuters) - Trump campaign adviser ...\n",
       "4    SEATTLE/WASHINGTON (Reuters) - President Donal...\n",
       "Name: text, dtype: object"
      ]
     },
     "execution_count": 35,
     "metadata": {},
     "output_type": "execute_result"
    }
   ],
   "source": [
    "news[news[\"fake\"] == 0][\"text\"].head(5)"
   ]
  },
  {
   "cell_type": "code",
   "execution_count": 36,
   "metadata": {},
   "outputs": [
    {
     "data": {
      "text/plain": [
       "<Axes: xlabel='subject', ylabel='count'>"
      ]
     },
     "execution_count": 36,
     "metadata": {},
     "output_type": "execute_result"
    },
    {
     "data": {
      "image/png": "[encoded data removed]",
      "text/plain": [
       "<Figure size 1000x500 with 1 Axes>"
      ]
     },
     "metadata": {},
     "output_type": "display_data"
    }
   ],
   "source": [
    "plt.figure(figsize=(10,5))\n",
    "sns.countplot(x=\"subject\", data=news, hue=\"fake\")"
   ]
  },
  {
   "cell_type": "markdown",
   "metadata": {},
   "source": [
    "### Инженерия признаков"
   ]
  },
  {
   "cell_type": "code",
   "execution_count": 37,
   "metadata": {},
   "outputs": [
    {
     "data": {
      "text/html": [
       "<div>\n",
       "<style scoped>\n",
       "    .dataframe tbody tr th:only-of-type {\n",
       "        vertical-align: middle;\n",
       "    }\n",
       "\n",
       "    .dataframe tbody tr th {\n",
       "        vertical-align: top;\n",
       "    }\n",
       "\n",
       "    .dataframe thead th {\n",
       "        text-align: right;\n",
       "    }\n",
       "</style>\n",
       "<table border=\"1\" class=\"dataframe\">\n",
       "  <thead>\n",
       "    <tr style=\"text-align: right;\">\n",
       "      <th></th>\n",
       "      <th>title</th>\n",
       "      <th>text</th>\n",
       "      <th>subject</th>\n",
       "      <th>date</th>\n",
       "      <th>fake</th>\n",
       "      <th>Year</th>\n",
       "      <th>Month</th>\n",
       "    </tr>\n",
       "  </thead>\n",
       "  <tbody>\n",
       "    <tr>\n",
       "      <th>0</th>\n",
       "      <td>Donald Trump Sends Out Embarrassing New Year’...</td>\n",
       "      <td>Donald Trump just couldn t wish all Americans ...</td>\n",
       "      <td>News</td>\n",
       "      <td>2017-12-31</td>\n",
       "      <td>1</td>\n",
       "      <td>2017.0</td>\n",
       "      <td>12.0</td>\n",
       "    </tr>\n",
       "    <tr>\n",
       "      <th>1</th>\n",
       "      <td>Drunk Bragging Trump Staffer Started Russian ...</td>\n",
       "      <td>House Intelligence Committee Chairman Devin Nu...</td>\n",
       "      <td>News</td>\n",
       "      <td>2017-12-31</td>\n",
       "      <td>1</td>\n",
       "      <td>2017.0</td>\n",
       "      <td>12.0</td>\n",
       "    </tr>\n",
       "    <tr>\n",
       "      <th>2</th>\n",
       "      <td>Sheriff David Clarke Becomes An Internet Joke...</td>\n",
       "      <td>On Friday, it was revealed that former Milwauk...</td>\n",
       "      <td>News</td>\n",
       "      <td>2017-12-30</td>\n",
       "      <td>1</td>\n",
       "      <td>2017.0</td>\n",
       "      <td>12.0</td>\n",
       "    </tr>\n",
       "    <tr>\n",
       "      <th>3</th>\n",
       "      <td>Trump Is So Obsessed He Even Has Obama’s Name...</td>\n",
       "      <td>On Christmas day, Donald Trump announced that ...</td>\n",
       "      <td>News</td>\n",
       "      <td>2017-12-29</td>\n",
       "      <td>1</td>\n",
       "      <td>2017.0</td>\n",
       "      <td>12.0</td>\n",
       "    </tr>\n",
       "    <tr>\n",
       "      <th>4</th>\n",
       "      <td>Pope Francis Just Called Out Donald Trump Dur...</td>\n",
       "      <td>Pope Francis used his annual Christmas Day mes...</td>\n",
       "      <td>News</td>\n",
       "      <td>2017-12-25</td>\n",
       "      <td>1</td>\n",
       "      <td>2017.0</td>\n",
       "      <td>12.0</td>\n",
       "    </tr>\n",
       "  </tbody>\n",
       "</table>\n",
       "</div>"
      ],
      "text/plain": [
       "                                               title  \\\n",
       "0   Donald Trump Sends Out Embarrassing New Year’...   \n",
       "1   Drunk Bragging Trump Staffer Started Russian ...   \n",
       "2   Sheriff David Clarke Becomes An Internet Joke...   \n",
       "3   Trump Is So Obsessed He Even Has Obama’s Name...   \n",
       "4   Pope Francis Just Called Out Donald Trump Dur...   \n",
       "\n",
       "                                                text subject       date  fake  \\\n",
       "0  Donald Trump just couldn t wish all Americans ...    News 2017-12-31     1   \n",
       "1  House Intelligence Committee Chairman Devin Nu...    News 2017-12-31     1   \n",
       "2  On Friday, it was revealed that former Milwauk...    News 2017-12-30     1   \n",
       "3  On Christmas day, Donald Trump announced that ...    News 2017-12-29     1   \n",
       "4  Pope Francis used his annual Christmas Day mes...    News 2017-12-25     1   \n",
       "\n",
       "     Year  Month  \n",
       "0  2017.0   12.0  \n",
       "1  2017.0   12.0  \n",
       "2  2017.0   12.0  \n",
       "3  2017.0   12.0  \n",
       "4  2017.0   12.0  "
      ]
     },
     "execution_count": 37,
     "metadata": {},
     "output_type": "execute_result"
    }
   ],
   "source": [
    "news[\"date\"] = pd.to_datetime(news[\"date\"], errors=\"coerce\")\n",
    "news[\"Year\"] = news[\"date\"].dt.year\n",
    "news[\"Month\"] = news[\"date\"].dt.month\n",
    "news.head()"
   ]
  },
  {
   "cell_type": "code",
   "execution_count": 38,
   "metadata": {},
   "outputs": [
    {
     "data": {
      "text/plain": [
       "<Axes: xlabel='Year', ylabel='count'>"
      ]
     },
     "execution_count": 38,
     "metadata": {},
     "output_type": "execute_result"
    },
    {
     "data": {
      "image/png": "[encoded data removed]",
      "text/plain": [
       "<Figure size 640x480 with 1 Axes>"
      ]
     },
     "metadata": {},
     "output_type": "display_data"
    }
   ],
   "source": [
    "sns.countplot(x=\"Year\", data=news, hue=\"fake\")"
   ]
  },
  {
   "cell_type": "code",
   "execution_count": 39,
   "metadata": {},
   "outputs": [
    {
     "data": {
      "text/plain": [
       "<Axes: xlabel='Month', ylabel='count'>"
      ]
     },
     "execution_count": 39,
     "metadata": {},
     "output_type": "execute_result"
    },
    {
     "data": {
      "image/png": "[encoded data removed]",
      "text/plain": [
       "<Figure size 640x480 with 1 Axes>"
      ]
     },
     "metadata": {},
     "output_type": "display_data"
    }
   ],
   "source": [
    "sns.countplot(x=\"Month\", data=news, hue=\"fake\")"
   ]
  },
  {
   "cell_type": "code",
   "execution_count": 40,
   "metadata": {},
   "outputs": [
    {
     "data": {
      "text/html": [
       "<div>\n",
       "<style scoped>\n",
       "    .dataframe tbody tr th:only-of-type {\n",
       "        vertical-align: middle;\n",
       "    }\n",
       "\n",
       "    .dataframe tbody tr th {\n",
       "        vertical-align: top;\n",
       "    }\n",
       "\n",
       "    .dataframe thead th {\n",
       "        text-align: right;\n",
       "    }\n",
       "</style>\n",
       "<table border=\"1\" class=\"dataframe\">\n",
       "  <thead>\n",
       "    <tr style=\"text-align: right;\">\n",
       "      <th></th>\n",
       "      <th>text</th>\n",
       "      <th>subject</th>\n",
       "      <th>date</th>\n",
       "      <th>fake</th>\n",
       "      <th>Year</th>\n",
       "      <th>Month</th>\n",
       "    </tr>\n",
       "  </thead>\n",
       "  <tbody>\n",
       "    <tr>\n",
       "      <th>0</th>\n",
       "      <td>Donald Trump Sends Out Embarrassing New Year’...</td>\n",
       "      <td>News</td>\n",
       "      <td>2017-12-31</td>\n",
       "      <td>1</td>\n",
       "      <td>2017.0</td>\n",
       "      <td>12.0</td>\n",
       "    </tr>\n",
       "    <tr>\n",
       "      <th>1</th>\n",
       "      <td>Drunk Bragging Trump Staffer Started Russian ...</td>\n",
       "      <td>News</td>\n",
       "      <td>2017-12-31</td>\n",
       "      <td>1</td>\n",
       "      <td>2017.0</td>\n",
       "      <td>12.0</td>\n",
       "    </tr>\n",
       "    <tr>\n",
       "      <th>2</th>\n",
       "      <td>Sheriff David Clarke Becomes An Internet Joke...</td>\n",
       "      <td>News</td>\n",
       "      <td>2017-12-30</td>\n",
       "      <td>1</td>\n",
       "      <td>2017.0</td>\n",
       "      <td>12.0</td>\n",
       "    </tr>\n",
       "    <tr>\n",
       "      <th>3</th>\n",
       "      <td>Trump Is So Obsessed He Even Has Obama’s Name...</td>\n",
       "      <td>News</td>\n",
       "      <td>2017-12-29</td>\n",
       "      <td>1</td>\n",
       "      <td>2017.0</td>\n",
       "      <td>12.0</td>\n",
       "    </tr>\n",
       "    <tr>\n",
       "      <th>4</th>\n",
       "      <td>Pope Francis Just Called Out Donald Trump Dur...</td>\n",
       "      <td>News</td>\n",
       "      <td>2017-12-25</td>\n",
       "      <td>1</td>\n",
       "      <td>2017.0</td>\n",
       "      <td>12.0</td>\n",
       "    </tr>\n",
       "  </tbody>\n",
       "</table>\n",
       "</div>"
      ],
      "text/plain": [
       "                                                text subject       date  fake  \\\n",
       "0   Donald Trump Sends Out Embarrassing New Year’...    News 2017-12-31     1   \n",
       "1   Drunk Bragging Trump Staffer Started Russian ...    News 2017-12-31     1   \n",
       "2   Sheriff David Clarke Becomes An Internet Joke...    News 2017-12-30     1   \n",
       "3   Trump Is So Obsessed He Even Has Obama’s Name...    News 2017-12-29     1   \n",
       "4   Pope Francis Just Called Out Donald Trump Dur...    News 2017-12-25     1   \n",
       "\n",
       "     Year  Month  \n",
       "0  2017.0   12.0  \n",
       "1  2017.0   12.0  \n",
       "2  2017.0   12.0  \n",
       "3  2017.0   12.0  \n",
       "4  2017.0   12.0  "
      ]
     },
     "execution_count": 40,
     "metadata": {},
     "output_type": "execute_result"
    }
   ],
   "source": [
    "news[\"text\"] = news[\"title\"] + news[\"text\"]\n",
    "news.drop(labels=(\"title\"), axis=1, inplace=True)\n",
    "news.head()"
   ]
  },
  {
   "cell_type": "markdown",
   "metadata": {},
   "source": [
    "### Финальная предобработка"
   ]
  },
  {
   "cell_type": "code",
   "execution_count": 41,
   "metadata": {},
   "outputs": [
    {
     "data": {
      "text/html": [
       "<div>\n",
       "<style scoped>\n",
       "    .dataframe tbody tr th:only-of-type {\n",
       "        vertical-align: middle;\n",
       "    }\n",
       "\n",
       "    .dataframe tbody tr th {\n",
       "        vertical-align: top;\n",
       "    }\n",
       "\n",
       "    .dataframe thead th {\n",
       "        text-align: right;\n",
       "    }\n",
       "</style>\n",
       "<table border=\"1\" class=\"dataframe\">\n",
       "  <thead>\n",
       "    <tr style=\"text-align: right;\">\n",
       "      <th></th>\n",
       "      <th>text</th>\n",
       "      <th>fake</th>\n",
       "    </tr>\n",
       "  </thead>\n",
       "  <tbody>\n",
       "    <tr>\n",
       "      <th>0</th>\n",
       "      <td>Donald Trump Sends Out Embarrassing New Year’...</td>\n",
       "      <td>1</td>\n",
       "    </tr>\n",
       "    <tr>\n",
       "      <th>1</th>\n",
       "      <td>Drunk Bragging Trump Staffer Started Russian ...</td>\n",
       "      <td>1</td>\n",
       "    </tr>\n",
       "    <tr>\n",
       "      <th>2</th>\n",
       "      <td>Sheriff David Clarke Becomes An Internet Joke...</td>\n",
       "      <td>1</td>\n",
       "    </tr>\n",
       "    <tr>\n",
       "      <th>3</th>\n",
       "      <td>Trump Is So Obsessed He Even Has Obama’s Name...</td>\n",
       "      <td>1</td>\n",
       "    </tr>\n",
       "    <tr>\n",
       "      <th>4</th>\n",
       "      <td>Pope Francis Just Called Out Donald Trump Dur...</td>\n",
       "      <td>1</td>\n",
       "    </tr>\n",
       "  </tbody>\n",
       "</table>\n",
       "</div>"
      ],
      "text/plain": [
       "                                                text  fake\n",
       "0   Donald Trump Sends Out Embarrassing New Year’...     1\n",
       "1   Drunk Bragging Trump Staffer Started Russian ...     1\n",
       "2   Sheriff David Clarke Becomes An Internet Joke...     1\n",
       "3   Trump Is So Obsessed He Even Has Obama’s Name...     1\n",
       "4   Pope Francis Just Called Out Donald Trump Dur...     1"
      ]
     },
     "execution_count": 41,
     "metadata": {},
     "output_type": "execute_result"
    }
   ],
   "source": [
    "news.drop(labels=[\"subject\", \"date\", \"Year\", \"Month\"], axis=1, inplace=True)\n",
    "news.head()"
   ]
  },
  {
   "cell_type": "markdown",
   "metadata": {},
   "source": [
    "### Разбивка значений на train и test"
   ]
  },
  {
   "cell_type": "code",
   "execution_count": 42,
   "metadata": {},
   "outputs": [],
   "source": [
    "from sklearn.model_selection import train_test_split\n",
    "X_train , X_test, y_train, y_test = train_test_split(news[\"text\"].to_numpy(), news[\"fake\"].to_numpy(), test_size = 0.2, random_state=42)"
   ]
  },
  {
   "cell_type": "code",
   "execution_count": 43,
   "metadata": {},
   "outputs": [
    {
     "data": {
      "text/plain": [
       "(35918, 8980, 35918, 8980)"
      ]
     },
     "execution_count": 43,
     "metadata": {},
     "output_type": "execute_result"
    }
   ],
   "source": [
    "len(X_train), len(X_test), len(y_train), len(y_test)"
   ]
  },
  {
   "cell_type": "markdown",
   "metadata": {},
   "source": [
    "### Токенизация"
   ]
  },
  {
   "cell_type": "code",
   "execution_count": 44,
   "metadata": {},
   "outputs": [
    {
     "data": {
      "text/plain": [
       "417"
      ]
     },
     "execution_count": 44,
     "metadata": {},
     "output_type": "execute_result"
    }
   ],
   "source": [
    "round(sum([len(i.split()) for i in X_train])/ len(X_train))\n"
   ]
  },
  {
   "cell_type": "code",
   "execution_count": 45,
   "metadata": {},
   "outputs": [],
   "source": [
    "max_vocab_length = 10000\n",
    "max_length = 418\n",
    "from tensorflow.keras.layers.experimental.preprocessing import TextVectorization\n",
    "text_vectorizer = TextVectorization(max_tokens=max_vocab_length, output_mode=\"int\", output_sequence_length=max_length)\n",
    "text_vectorizer.adapt(X_train)"
   ]
  },
  {
   "cell_type": "code",
   "execution_count": 46,
   "metadata": {},
   "outputs": [
    {
     "data": {
      "text/plain": [
       "<tf.Tensor: shape=(1, 418), dtype=int64, numpy=\n",
       "array([[1764,   91,   25, 2782,    3,    1,    0,    0,    0,    0,    0,\n",
       "           0,    0,    0,    0,    0,    0,    0,    0,    0,    0,    0,\n",
       "           0,    0,    0,    0,    0,    0,    0,    0,    0,    0,    0,\n",
       "           0,    0,    0,    0,    0,    0,    0,    0,    0,    0,    0,\n",
       "           0,    0,    0,    0,    0,    0,    0,    0,    0,    0,    0,\n",
       "           0,    0,    0,    0,    0,    0,    0,    0,    0,    0,    0,\n",
       "           0,    0,    0,    0,    0,    0,    0,    0,    0,    0,    0,\n",
       "           0,    0,    0,    0,    0,    0,    0,    0,    0,    0,    0,\n",
       "           0,    0,    0,    0,    0,    0,    0,    0,    0,    0,    0,\n",
       "           0,    0,    0,    0,    0,    0,    0,    0,    0,    0,    0,\n",
       "           0,    0,    0,    0,    0,    0,    0,    0,    0,    0,    0,\n",
       "           0,    0,    0,    0,    0,    0,    0,    0,    0,    0,    0,\n",
       "           0,    0,    0,    0,    0,    0,    0,    0,    0,    0,    0,\n",
       "           0,    0,    0,    0,    0,    0,    0,    0,    0,    0,    0,\n",
       "           0,    0,    0,    0,    0,    0,    0,    0,    0,    0,    0,\n",
       "           0,    0,    0,    0,    0,    0,    0,    0,    0,    0,    0,\n",
       "           0,    0,    0,    0,    0,    0,    0,    0,    0,    0,    0,\n",
       "           0,    0,    0,    0,    0,    0,    0,    0,    0,    0,    0,\n",
       "           0,    0,    0,    0,    0,    0,    0,    0,    0,    0,    0,\n",
       "           0,    0,    0,    0,    0,    0,    0,    0,    0,    0,    0,\n",
       "           0,    0,    0,    0,    0,    0,    0,    0,    0,    0,    0,\n",
       "           0,    0,    0,    0,    0,    0,    0,    0,    0,    0,    0,\n",
       "           0,    0,    0,    0,    0,    0,    0,    0,    0,    0,    0,\n",
       "           0,    0,    0,    0,    0,    0,    0,    0,    0,    0,    0,\n",
       "           0,    0,    0,    0,    0,    0,    0,    0,    0,    0,    0,\n",
       "           0,    0,    0,    0,    0,    0,    0,    0,    0,    0,    0,\n",
       "           0,    0,    0,    0,    0,    0,    0,    0,    0,    0,    0,\n",
       "           0,    0,    0,    0,    0,    0,    0,    0,    0,    0,    0,\n",
       "           0,    0,    0,    0,    0,    0,    0,    0,    0,    0,    0,\n",
       "           0,    0,    0,    0,    0,    0,    0,    0,    0,    0,    0,\n",
       "           0,    0,    0,    0,    0,    0,    0,    0,    0,    0,    0,\n",
       "           0,    0,    0,    0,    0,    0,    0,    0,    0,    0,    0,\n",
       "           0,    0,    0,    0,    0,    0,    0,    0,    0,    0,    0,\n",
       "           0,    0,    0,    0,    0,    0,    0,    0,    0,    0,    0,\n",
       "           0,    0,    0,    0,    0,    0,    0,    0,    0,    0,    0,\n",
       "           0,    0,    0,    0,    0,    0,    0,    0,    0,    0,    0,\n",
       "           0,    0,    0,    0,    0,    0,    0,    0,    0,    0,    0,\n",
       "           0,    0,    0,    0,    0,    0,    0,    0,    0,    0,    0]])>"
      ]
     },
     "execution_count": 46,
     "metadata": {},
     "output_type": "execute_result"
    }
   ],
   "source": [
    "sample_sentence = \"Please Do Not Forget To Upvoted\"\n",
    "text_vectorizer([sample_sentence])\n"
   ]
  },
  {
   "cell_type": "code",
   "execution_count": 47,
   "metadata": {},
   "outputs": [
    {
     "name": "stdout",
     "output_type": "stream",
     "text": [
      " Why Conservatives Need To Stop Whining About Obama Being In Cuba During Brussels Attack (VIDEO)Terrorists attacked Brussels, Belgium in a tragedy that has left at least 30 people dead, and that means conservatives quickly attacked President Obama for being in Cuba at the time.On Twitter, conservatives did not waste any time using the act of terrorism to attack President Obama, who became the first American President to visit Cuba in 88 years since Calvin Coolidge did so in 1928.The historic trip is an effort to open the island nation to trade by normalizing relations enough to convince Congress to end the longtime embargo which remains one of the last remnants of the Cold War. It represents an opportunity to strengthen relations between our two nations and a chance to change Cuba from within via American tourism and business opportunities.Thus far, the trip has been successful as Cuba has welcomed President Obama with open arms. But once news broke of the terrorist attacks in Brussels, conservatives immediately sounded off about how President Obama is in Cuba while Europe suffers yet another attack and further criticized Obama for not cutting his trip short to run back to the White House.Here are some of the tweets.Brussels under attack. Obama on a tourist trio in Havana with his family. Says it all.  Marc Thiessen (@marcthiessen) March 22, 2016 Terrible optics: ISIS attacks Brussels and Obama is with the Castro Brothers in Cuba.  Richard Grenell (@RichardGrenell) March 22, 2016Obama should leave Cuba and head back to the White House Situation Room immediately. #brusselsattack  Richard Grenell (@RichardGrenell) March 22, 2016The two bozos above are Fox News contributors so it really comes as no surprise that they would shamelessly use a terrorist attack to launch their own attack on President Obama.Even Ted Cruz got in on the Obama bashing, calling for the president to leave Cuba and come back to the states or go directly to Brussels.And do what exactly?President Obama has been planning this trip to Cuba for months, and it s not like leaving now will change anything. The truth is that there is very little President Obama can do beyond offering American condolences and offering assistance, which he has already done via phone call with Belgian Prime Minister Charles Michel.Furthermore, President Obama already receives constant briefings on the situation even though he s not at the White House. And as president, he can order any actions necessary from wherever he happens to be on the planet. In other words, he doesn t have to be in Washington or in Brussels to handle the attacks.In addition, this major terrorist attack did not occur in the United States. And if it had, it is likely President Obama would have hopped on Air Force One as soon as possible, but still would have the power to make the necessary communications with his staff while preparing for takeoff. In short, leaps in communication technology have made it possible for presidents to be in several places and deal with several situations at once from anywhere in the world.Let s not act like Brussels can t handle the situation. NATO is based there and Belgium has plenty of allies around them ready to help when asked. A visit from President Obama would just be a distraction because it would require security and police forces pay attention to keeping him safe instead of paying attention to the attack, the victims, and who perpetrated it.And the one really big reason why conservatives need to shut the hell up about President Obama not dropping everything to respond to a terrorist attack overseas is the fact that former President George W. Bush did the same thing in 2001, except the terrorist attack was the worst ever on American soil.That s right, even as New York City and Washington D.C. were under attack on September 11th, Bush kept his plan to read a story book to children at Emma T. Booker Elementary School in Sarasota, Florida. Even after being told of the attacks in the middle of reading My Pet Goat, Bush continued to read instead of immediately jumping on board Air Force One to get to the Situation Room. And if there were ever a time to cancel plans and return to Washington, that was it. But Bush not only finished the book, he delivered a short scheduled speech and remained at the school for 30 minutes after being told about the attack the first time. And then he headed to the airport.But it left an image of a president who didn t seem to care about doing something as commander-in-chief to deal with the unfolding tragedy in our own country that would scar us and this nation for more than a decade and beyond.I don t recall conservatives whining about President Bush then, so they really shouldn t be whining about President Obama now. Featured image via Wikimedia tf.Tensor(\n",
      "[ 225  690  233    3  395 5343   38   74  108    7 1396  115 1771  270\n",
      "    1 1237 1771 4938    7    6 3925    8   22  259   27  336  721   46\n",
      " 1106    5    8  646  690 1096 1237   39   74   10  108    7 1396   27\n",
      "    2    1  265  690  113   25 3289   96  100  504    2  341    4  916\n",
      "    3  270   39   74   30  893    2  105  133   39    3  562 1396    7\n",
      " 8354  118  135    1    1  113   81    7    1 2129 1118   12   32  588\n",
      "    3  481    2 1131  401    3  271   20    1  666  463    3 2874  195\n",
      "    3  252    2 2624 5061   51 1288   54    4    2   97    1    4    2\n",
      " 2431  216   16 2206   32 1357    3 3434  666  154   70   98  452    5\n",
      "    6 1163    3  282 1396   26  548  177  133 4831    5  287    1  301\n",
      "    2 1118   22   45 1977   19 1396   22 2898   39   74   17  481 1238\n",
      "   34  458   95 1513    4    2  755  364    7 1771  690  683 6824  220\n",
      "   38  102   39   74   12    7 1396  116  739 9618  379  201  270    5\n",
      "  512  977   74   10   25 2684   21 1118  939    3  490  142    3    2\n",
      "   88    1   29   84    4    2    1  139  270   74    9    6 6270 9799\n",
      "    7 4294   17   21  284  143   16   56 5435    1    1  365 1340  221\n",
      " 2532    1  925  364 1771    5   74   12   17    2 3365 2941    7 1396\n",
      " 1807    1    1  365 1340    1  107  648 1396    5  427  142    3    2\n",
      "   88   68  744  734  683    1 1807    1    1  365 1340 5003   98    1\n",
      " 1467   29  311   95 9344   81   16  260  545   19   66 1735    8   33\n",
      "   35    1  247    6  755  270    3 1852   41  215  270    9   39    1\n",
      "  867  380  331    7    9    2   74 7050  564   10    2   39    3  648\n",
      " 1396    5  253  142    3    2   76   48  206 1300    3    1   91   58\n",
      "    1   74   22   45 1585   28 1118    3 1396   10  314    5   16   11\n",
      "   25   90 1110  101   40  282  519    2  851   12    8   67   12  145\n",
      "  382   39   74   75   91 1284 2486  133 8829    5 2486 1887   51   13\n",
      "   22  292  500  177  970  306   17 7026  423  199 2776    1   39   74\n",
      "  292 6128 4336 4813    9    2  744  109  357   13   11   25   27    2\n",
      "   88   68    5   19   39   13   75  246   96  797 1408   26 7166   13\n",
      " 1835    3   23    9    2 4311    7   82  670   13  393   44], shape=(418,), dtype=int64)\n"
     ]
    }
   ],
   "source": [
    "import random\n",
    "random_sentence = random.choice(X_train)\n",
    "print(random_sentence, text_vectorizer(random_sentence))"
   ]
  },
  {
   "cell_type": "code",
   "execution_count": 48,
   "metadata": {},
   "outputs": [
    {
     "data": {
      "text/plain": [
       "<keras.src.layers.core.embedding.Embedding at 0x2971f0590>"
      ]
     },
     "execution_count": 48,
     "metadata": {},
     "output_type": "execute_result"
    }
   ],
   "source": [
    "from tensorflow.keras import layers\n",
    "embedding = layers.Embedding(input_dim = max_vocab_length, output_dim=128, embeddings_initializer=\"uniform\", input_length=max_length)\n",
    "embedding"
   ]
  },
  {
   "cell_type": "code",
   "execution_count": 49,
   "metadata": {},
   "outputs": [
    {
     "name": "stdout",
     "output_type": "stream",
     "text": [
      "Tracking the U.S. economy under Trump in seven charts WASHINGTON (Reuters) - U.S. President Donald Trump has set many specific and general goals for his administration’s management of the economy, like raising growth to 3 percent and eliminating the country’s trade deficit.  The charts below show how key indicators performed during former President Barack Obama’s second term and how they are performing since Trump took office in January.   tf.Tensor(\n",
      "[[-0.01969017 -0.00249346 -0.02767373 ... -0.01287097 -0.01953253\n",
      "   0.02653401]\n",
      " [-0.02291315  0.02816143 -0.04211353 ...  0.04608215  0.0021836\n",
      "  -0.02452688]\n",
      " [ 0.01817498 -0.0075947   0.03338191 ... -0.01070656  0.04573053\n",
      "   0.01601018]\n",
      " ...\n",
      " [-0.02032328 -0.01609587  0.01946993 ... -0.00336308  0.0075439\n",
      "   0.04371543]\n",
      " [-0.02032328 -0.01609587  0.01946993 ... -0.00336308  0.0075439\n",
      "   0.04371543]\n",
      " [-0.02032328 -0.01609587  0.01946993 ... -0.00336308  0.0075439\n",
      "   0.04371543]], shape=(418, 128), dtype=float32)\n"
     ]
    }
   ],
   "source": [
    "random_sentence = random.choice(X_train)\n",
    "print(random_sentence, embedding(text_vectorizer(random_sentence)))"
   ]
  },
  {
   "cell_type": "markdown",
   "metadata": {},
   "source": [
    "### Потсроение модели"
   ]
  },
  {
   "cell_type": "code",
   "execution_count": 57,
   "metadata": {},
   "outputs": [],
   "source": [
    "from tensorflow.keras import layers\n",
    "inputs = layers.Input(shape=(1,), dtype=\"string\")\n",
    "\n",
    "x = text_vectorizer(inputs)\n",
    "\n",
    "x = embedding(x)\n",
    "\n",
    "x = layers.LSTM(64)(x)\n",
    "\n",
    "outputs =layers.Dense(1, activation=\"sigmoid\")(x)\n",
    "\n",
    "model = tf.keras.Model(inputs, outputs, name=\"model_LSTM\")"
   ]
  },
  {
   "cell_type": "code",
   "execution_count": 58,
   "metadata": {},
   "outputs": [
    {
     "name": "stdout",
     "output_type": "stream",
     "text": [
      "Model: \"model_LSTM\"\n",
      "_________________________________________________________________\n",
      " Layer (type)                Output Shape              Param #   \n",
      "=================================================================\n",
      " input_2 (InputLayer)        [(None, 1)]               0         \n",
      "                                                                 \n",
      " text_vectorization (TextVe  (None, 418)               0         \n",
      " ctorization)                                                    \n",
      "                                                                 \n",
      " embedding (Embedding)       (None, 418, 128)          1280000   \n",
      "                                                                 \n",
      " lstm (LSTM)                 (None, 64)                49408     \n",
      "                                                                 \n",
      " dense_1 (Dense)             (None, 1)                 65        \n",
      "                                                                 \n",
      "=================================================================\n",
      "Total params: 1329473 (5.07 MB)\n",
      "Trainable params: 1329473 (5.07 MB)\n",
      "Non-trainable params: 0 (0.00 Byte)\n",
      "_________________________________________________________________\n"
     ]
    }
   ],
   "source": [
    "model.summary()"
   ]
  },
  {
   "cell_type": "code",
   "execution_count": 59,
   "metadata": {},
   "outputs": [
    {
     "name": "stderr",
     "output_type": "stream",
     "text": [
      "WARNING:absl:At this time, the v2.11+ optimizer `tf.keras.optimizers.Adam` runs slowly on M1/M2 Macs, please use the legacy Keras optimizer instead, located at `tf.keras.optimizers.legacy.Adam`.\n"
     ]
    }
   ],
   "source": [
    "model.compile(loss=\"binary_crossentropy\", optimizer=tf.keras.optimizers.Adam(), metrics=[\"accuracy\"])\n"
   ]
  },
  {
   "cell_type": "code",
   "execution_count": 60,
   "metadata": {},
   "outputs": [
    {
     "name": "stdout",
     "output_type": "stream",
     "text": [
      "Epoch 1/5\n",
      "1123/1123 [==============================] - 240s 213ms/step - loss: 0.4396 - accuracy: 0.7991 - val_loss: 0.2342 - val_accuracy: 0.9335\n",
      "Epoch 2/5\n",
      "1123/1123 [==============================] - 212s 189ms/step - loss: 0.2088 - accuracy: 0.9396 - val_loss: 0.1898 - val_accuracy: 0.9506\n",
      "Epoch 3/5\n",
      "1123/1123 [==============================] - 219s 195ms/step - loss: 0.4254 - accuracy: 0.7892 - val_loss: 0.5414 - val_accuracy: 0.6443\n",
      "Epoch 4/5\n",
      "1123/1123 [==============================] - 224s 199ms/step - loss: 0.1849 - accuracy: 0.9378 - val_loss: 0.0947 - val_accuracy: 0.9744\n",
      "Epoch 5/5\n",
      "1123/1123 [==============================] - 246s 219ms/step - loss: 0.0935 - accuracy: 0.9733 - val_loss: 0.0382 - val_accuracy: 0.9900\n"
     ]
    }
   ],
   "source": [
    "model_history = model.fit(X_train, y_train, epochs=5, validation_data=(X_test, y_test))"
   ]
  },
  {
   "cell_type": "code",
   "execution_count": 61,
   "metadata": {},
   "outputs": [
    {
     "name": "stdout",
     "output_type": "stream",
     "text": [
      "281/281 [==============================] - 17s 61ms/step\n"
     ]
    },
    {
     "data": {
      "text/plain": [
       "array([[0.9970811 ],\n",
       "       [0.02077865],\n",
       "       [0.00217548],\n",
       "       [0.9962393 ],\n",
       "       [0.00201535],\n",
       "       [0.9953926 ],\n",
       "       [0.9963466 ],\n",
       "       [0.99388176],\n",
       "       [0.0063086 ],\n",
       "       [0.00447148]], dtype=float32)"
      ]
     },
     "execution_count": 61,
     "metadata": {},
     "output_type": "execute_result"
    }
   ],
   "source": [
    "model_prediction = model.predict(X_test)\n",
    "model_prediction[:10]"
   ]
  },
  {
   "cell_type": "code",
   "execution_count": 62,
   "metadata": {},
   "outputs": [
    {
     "data": {
      "text/plain": [
       "<tf.Tensor: shape=(10,), dtype=float32, numpy=array([1., 0., 0., 1., 0., 1., 1., 1., 0., 0.], dtype=float32)>"
      ]
     },
     "execution_count": 62,
     "metadata": {},
     "output_type": "execute_result"
    }
   ],
   "source": [
    "model_preds = tf.squeeze(tf.round(model_prediction))\n",
    "model_preds[:10]"
   ]
  },
  {
   "cell_type": "code",
   "execution_count": 63,
   "metadata": {},
   "outputs": [
    {
     "name": "stdout",
     "output_type": "stream",
     "text": [
      "0.9899777282850779\n",
      "0.9877456158884429\n",
      "0.9932016146165286\n",
      "0.9904661016949152\n"
     ]
    }
   ],
   "source": [
    "from sklearn.metrics import accuracy_score, recall_score, precision_score, f1_score\n",
    "print(accuracy_score(y_test, model_preds))\n",
    "print(recall_score(y_test, model_preds))\n",
    "print(precision_score(y_test, model_preds))\n",
    "print(f1_score(y_test, model_preds))"
   ]
  }
 ],
 "metadata": {
  "kernelspec": {
   "display_name": "base",
   "language": "python",
   "name": "python3"
  },
  "language_info": {
   "codemirror_mode": {
    "name": "ipython",
    "version": 3
   },
   "file_extension": ".py",
   "mimetype": "text/x-python",
   "name": "python",
   "nbconvert_exporter": "python",
   "pygments_lexer": "ipython3",
   "version": "3.11.5"
  }
 },
 "nbformat": 4,
 "nbformat_minor": 2
}
