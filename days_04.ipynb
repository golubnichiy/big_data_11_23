{
 "cells": [
  {
   "cell_type": "markdown",
   "metadata": {},
   "source": [
    "### Подключение библиотек и загрузка данных"
   ]
  },
  {
   "cell_type": "code",
   "execution_count": 46,
   "metadata": {},
   "outputs": [
    {
     "name": "stdout",
     "output_type": "stream",
     "text": [
      "   pregnancies  glucose  diastolic  triceps  insulin   bmi    dpf  age  \\\n",
      "0            6      148         72       35        0  33.6  0.627   50   \n",
      "1            1       85         66       29        0  26.6  0.351   31   \n",
      "2            8      183         64        0        0  23.3  0.672   32   \n",
      "\n",
      "   diabetes  \n",
      "0         1  \n",
      "1         0  \n",
      "2         1  \n"
     ]
    }
   ],
   "source": [
    "import pandas as pd\n",
    "import numpy as np\n",
    "diabetes_df = pd.read_csv(\"diabetes_clean.csv\")\n",
    "print(diabetes_df.head(3))"
   ]
  },
  {
   "cell_type": "markdown",
   "metadata": {},
   "source": [
    "### Исключение аномальных значений"
   ]
  },
  {
   "cell_type": "code",
   "execution_count": 47,
   "metadata": {},
   "outputs": [],
   "source": [
    "diabetes_df = diabetes_df[diabetes_df[\"bmi\"]>0]\n",
    "diabetes_df = diabetes_df[diabetes_df[\"glucose\"]>0]\n",
    "diabetes_df = diabetes_df[diabetes_df[\"insulin\"]>0]"
   ]
  },
  {
   "cell_type": "markdown",
   "metadata": {},
   "source": [
    "### Разбивка данных на целевую переменную и массив признаков"
   ]
  },
  {
   "cell_type": "code",
   "execution_count": 48,
   "metadata": {},
   "outputs": [],
   "source": [
    "X = diabetes_df.drop(\"glucose\", axis=1).values\n",
    "y = diabetes_df[\"glucose\"]"
   ]
  },
  {
   "cell_type": "markdown",
   "metadata": {},
   "source": [
    "### Предсказание по одной переменной (BMI)"
   ]
  },
  {
   "cell_type": "code",
   "execution_count": 49,
   "metadata": {},
   "outputs": [
    {
     "name": "stdout",
     "output_type": "stream",
     "text": [
      "(392,) (392,)\n",
      "[28.1 43.1 31.  30.5 30.1 25.8 45.8 43.3 34.6 39.3 36.6 31.1 23.2 22.2\n",
      " 31.6 24.8 24.  37.1 34.  45.4 19.4 24.2 24.4 33.7 34.7 37.7 46.8 41.5\n",
      " 25.4 19.6 28.9 32.9 28.6 35.1 29.3 32.4 38.5 37.1 32.  46.7 24.7 33.9\n",
      " 20.4 28.7 49.7 26.6 28.7 29.5 34.3 37.4 33.3 34.  31.2 30.5 23.2 53.2\n",
      " 33.6 55.  42.9 33.3 34.5 29.7 34.5 21.1 33.8 30.8 28.7 36.9 32.5 32.8\n",
      " 30.5 37.4 34.3 40.6 24.6 25.2 29.  40.9 37.2 44.2 29.9 28.4 35.4 43.5\n",
      " 29.7 32.7 67.1 34.9 30.1 32.  27.9 31.6 33.1 39.4 22.9 34.8 30.9 20.4\n",
      " 37.7 37.5 33.2 42.6 34.2 41.8 35.8 30.  34.6 28.8 23.6 34.6 36.7 45.2\n",
      " 46.2 25.4 29.7 35.9 33.1 27.1 38.2 52.3 35.4 24.4 27.6 25.9 33.3 30.9\n",
      " 33.6 25.2 33.2 40.5 27.8 25.3 35.9 32.4 26.  38.7 45.6 20.8 36.1 36.9\n",
      " 36.6 43.3 40.5 35.5 28.  30.7 36.6 31.6 35.8 39.7 25.5 24.8 30.5 32.9\n",
      " 39.4 26.6 29.5 34.1 19.3 38.1 27.5 26.8 25.6 35.1 45.5 30.8 32.7 23.9\n",
      " 47.9 34.2 25.9 25.9 38.5 28.7 21.8 27.2 33.3 35.3 36.5 31.2 34.9 34.\n",
      " 27.5 32.8 38.4 35.8 34.9 36.2 39.2 25.2 37.2 43.4 30.8 25.4 25.1 24.3\n",
      " 22.3 32.  31.6 32.  23.7 22.1 27.7 24.7 35.  42.1 42.4 34.4 42.4 26.2\n",
      " 34.6 35.7 26.4 45.3 26.  40.6 42.9 37.  34.1 40.6 35.  30.4 30.  32.2\n",
      " 33.2 59.4 25.3 36.5 33.6 30.5 21.2 39.9 37.8 30.2 37.6 25.9 20.8 35.3\n",
      " 21.8 27.8 36.8 46.1 33.7 23.8 25.9 35.5 27.8 38.2 42.3 40.7 46.5 36.8\n",
      " 28.9 30.1 25.1 29.3 25.2 33.3 36.5 28.6 30.4 22.1 25.6 31.6 30.3 19.6\n",
      " 25.  33.2 18.2 26.3 30.8 29.8 41.3 33.3 36.3 36.4 39.4 32.4 39.5 32.\n",
      " 34.5 43.6 33.1 32.8 31.9 29.9 36.9 25.5 41.3 37.6 26.9 26.1 38.6 32.\n",
      " 31.3 34.3 29.5 34.7 30.1 35.5 24.  28.7 33.3 39.4 28.5 33.6 32.  27.8\n",
      " 23.1 35.2 40.  19.5 41.5 24.  30.9 32.9 38.2 36.1 20.1 38.4 43.5 37.7\n",
      " 34.5 27.5 31.6 40.9 19.5 29.3 27.6 39.4 23.4 37.8 28.3 25.2 33.8 34.1\n",
      " 34.2 38.7 21.8 38.9 34.2 37.6 37.9 34.8 34.  30.9 33.6 35.5 57.3 24.2\n",
      " 24.2 44.6 33.2 24.1 46.1 39.1 38.5 30.4 29.9 34.5 35.9 28.4 34.4 38.\n",
      " 31.2 29.6 26.4 33.9 33.8 35.5 38.1 29.3 39.1 36.1 28.4 44.5 29.  27.4\n",
      " 36.6 42.3 30.8 28.5 40.6 30.  46.3 36.4 39.  43.3 36.5 28.4 32.9 26.2]\n"
     ]
    }
   ],
   "source": [
    "X_bmi = X[:, 4]\n",
    "print(y.shape, X_bmi.shape)\n",
    "print(X_bmi)"
   ]
  },
  {
   "cell_type": "code",
   "execution_count": 50,
   "metadata": {},
   "outputs": [
    {
     "name": "stdout",
     "output_type": "stream",
     "text": [
      "(392, 1)\n",
      "[[28.1]\n",
      " [43.1]\n",
      " [31. ]\n",
      " [30.5]\n",
      " [30.1]\n",
      " [25.8]\n",
      " [45.8]\n",
      " [43.3]\n",
      " [34.6]\n",
      " [39.3]\n",
      " [36.6]\n",
      " [31.1]\n",
      " [23.2]\n",
      " [22.2]\n",
      " [31.6]\n",
      " [24.8]\n",
      " [24. ]\n",
      " [37.1]\n",
      " [34. ]\n",
      " [45.4]\n",
      " [19.4]\n",
      " [24.2]\n",
      " [24.4]\n",
      " [33.7]\n",
      " [34.7]\n",
      " [37.7]\n",
      " [46.8]\n",
      " [41.5]\n",
      " [25.4]\n",
      " [19.6]\n",
      " [28.9]\n",
      " [32.9]\n",
      " [28.6]\n",
      " [35.1]\n",
      " [29.3]\n",
      " [32.4]\n",
      " [38.5]\n",
      " [37.1]\n",
      " [32. ]\n",
      " [46.7]\n",
      " [24.7]\n",
      " [33.9]\n",
      " [20.4]\n",
      " [28.7]\n",
      " [49.7]\n",
      " [26.6]\n",
      " [28.7]\n",
      " [29.5]\n",
      " [34.3]\n",
      " [37.4]\n",
      " [33.3]\n",
      " [34. ]\n",
      " [31.2]\n",
      " [30.5]\n",
      " [23.2]\n",
      " [53.2]\n",
      " [33.6]\n",
      " [55. ]\n",
      " [42.9]\n",
      " [33.3]\n",
      " [34.5]\n",
      " [29.7]\n",
      " [34.5]\n",
      " [21.1]\n",
      " [33.8]\n",
      " [30.8]\n",
      " [28.7]\n",
      " [36.9]\n",
      " [32.5]\n",
      " [32.8]\n",
      " [30.5]\n",
      " [37.4]\n",
      " [34.3]\n",
      " [40.6]\n",
      " [24.6]\n",
      " [25.2]\n",
      " [29. ]\n",
      " [40.9]\n",
      " [37.2]\n",
      " [44.2]\n",
      " [29.9]\n",
      " [28.4]\n",
      " [35.4]\n",
      " [43.5]\n",
      " [29.7]\n",
      " [32.7]\n",
      " [67.1]\n",
      " [34.9]\n",
      " [30.1]\n",
      " [32. ]\n",
      " [27.9]\n",
      " [31.6]\n",
      " [33.1]\n",
      " [39.4]\n",
      " [22.9]\n",
      " [34.8]\n",
      " [30.9]\n",
      " [20.4]\n",
      " [37.7]\n",
      " [37.5]\n",
      " [33.2]\n",
      " [42.6]\n",
      " [34.2]\n",
      " [41.8]\n",
      " [35.8]\n",
      " [30. ]\n",
      " [34.6]\n",
      " [28.8]\n",
      " [23.6]\n",
      " [34.6]\n",
      " [36.7]\n",
      " [45.2]\n",
      " [46.2]\n",
      " [25.4]\n",
      " [29.7]\n",
      " [35.9]\n",
      " [33.1]\n",
      " [27.1]\n",
      " [38.2]\n",
      " [52.3]\n",
      " [35.4]\n",
      " [24.4]\n",
      " [27.6]\n",
      " [25.9]\n",
      " [33.3]\n",
      " [30.9]\n",
      " [33.6]\n",
      " [25.2]\n",
      " [33.2]\n",
      " [40.5]\n",
      " [27.8]\n",
      " [25.3]\n",
      " [35.9]\n",
      " [32.4]\n",
      " [26. ]\n",
      " [38.7]\n",
      " [45.6]\n",
      " [20.8]\n",
      " [36.1]\n",
      " [36.9]\n",
      " [36.6]\n",
      " [43.3]\n",
      " [40.5]\n",
      " [35.5]\n",
      " [28. ]\n",
      " [30.7]\n",
      " [36.6]\n",
      " [31.6]\n",
      " [35.8]\n",
      " [39.7]\n",
      " [25.5]\n",
      " [24.8]\n",
      " [30.5]\n",
      " [32.9]\n",
      " [39.4]\n",
      " [26.6]\n",
      " [29.5]\n",
      " [34.1]\n",
      " [19.3]\n",
      " [38.1]\n",
      " [27.5]\n",
      " [26.8]\n",
      " [25.6]\n",
      " [35.1]\n",
      " [45.5]\n",
      " [30.8]\n",
      " [32.7]\n",
      " [23.9]\n",
      " [47.9]\n",
      " [34.2]\n",
      " [25.9]\n",
      " [25.9]\n",
      " [38.5]\n",
      " [28.7]\n",
      " [21.8]\n",
      " [27.2]\n",
      " [33.3]\n",
      " [35.3]\n",
      " [36.5]\n",
      " [31.2]\n",
      " [34.9]\n",
      " [34. ]\n",
      " [27.5]\n",
      " [32.8]\n",
      " [38.4]\n",
      " [35.8]\n",
      " [34.9]\n",
      " [36.2]\n",
      " [39.2]\n",
      " [25.2]\n",
      " [37.2]\n",
      " [43.4]\n",
      " [30.8]\n",
      " [25.4]\n",
      " [25.1]\n",
      " [24.3]\n",
      " [22.3]\n",
      " [32. ]\n",
      " [31.6]\n",
      " [32. ]\n",
      " [23.7]\n",
      " [22.1]\n",
      " [27.7]\n",
      " [24.7]\n",
      " [35. ]\n",
      " [42.1]\n",
      " [42.4]\n",
      " [34.4]\n",
      " [42.4]\n",
      " [26.2]\n",
      " [34.6]\n",
      " [35.7]\n",
      " [26.4]\n",
      " [45.3]\n",
      " [26. ]\n",
      " [40.6]\n",
      " [42.9]\n",
      " [37. ]\n",
      " [34.1]\n",
      " [40.6]\n",
      " [35. ]\n",
      " [30.4]\n",
      " [30. ]\n",
      " [32.2]\n",
      " [33.2]\n",
      " [59.4]\n",
      " [25.3]\n",
      " [36.5]\n",
      " [33.6]\n",
      " [30.5]\n",
      " [21.2]\n",
      " [39.9]\n",
      " [37.8]\n",
      " [30.2]\n",
      " [37.6]\n",
      " [25.9]\n",
      " [20.8]\n",
      " [35.3]\n",
      " [21.8]\n",
      " [27.8]\n",
      " [36.8]\n",
      " [46.1]\n",
      " [33.7]\n",
      " [23.8]\n",
      " [25.9]\n",
      " [35.5]\n",
      " [27.8]\n",
      " [38.2]\n",
      " [42.3]\n",
      " [40.7]\n",
      " [46.5]\n",
      " [36.8]\n",
      " [28.9]\n",
      " [30.1]\n",
      " [25.1]\n",
      " [29.3]\n",
      " [25.2]\n",
      " [33.3]\n",
      " [36.5]\n",
      " [28.6]\n",
      " [30.4]\n",
      " [22.1]\n",
      " [25.6]\n",
      " [31.6]\n",
      " [30.3]\n",
      " [19.6]\n",
      " [25. ]\n",
      " [33.2]\n",
      " [18.2]\n",
      " [26.3]\n",
      " [30.8]\n",
      " [29.8]\n",
      " [41.3]\n",
      " [33.3]\n",
      " [36.3]\n",
      " [36.4]\n",
      " [39.4]\n",
      " [32.4]\n",
      " [39.5]\n",
      " [32. ]\n",
      " [34.5]\n",
      " [43.6]\n",
      " [33.1]\n",
      " [32.8]\n",
      " [31.9]\n",
      " [29.9]\n",
      " [36.9]\n",
      " [25.5]\n",
      " [41.3]\n",
      " [37.6]\n",
      " [26.9]\n",
      " [26.1]\n",
      " [38.6]\n",
      " [32. ]\n",
      " [31.3]\n",
      " [34.3]\n",
      " [29.5]\n",
      " [34.7]\n",
      " [30.1]\n",
      " [35.5]\n",
      " [24. ]\n",
      " [28.7]\n",
      " [33.3]\n",
      " [39.4]\n",
      " [28.5]\n",
      " [33.6]\n",
      " [32. ]\n",
      " [27.8]\n",
      " [23.1]\n",
      " [35.2]\n",
      " [40. ]\n",
      " [19.5]\n",
      " [41.5]\n",
      " [24. ]\n",
      " [30.9]\n",
      " [32.9]\n",
      " [38.2]\n",
      " [36.1]\n",
      " [20.1]\n",
      " [38.4]\n",
      " [43.5]\n",
      " [37.7]\n",
      " [34.5]\n",
      " [27.5]\n",
      " [31.6]\n",
      " [40.9]\n",
      " [19.5]\n",
      " [29.3]\n",
      " [27.6]\n",
      " [39.4]\n",
      " [23.4]\n",
      " [37.8]\n",
      " [28.3]\n",
      " [25.2]\n",
      " [33.8]\n",
      " [34.1]\n",
      " [34.2]\n",
      " [38.7]\n",
      " [21.8]\n",
      " [38.9]\n",
      " [34.2]\n",
      " [37.6]\n",
      " [37.9]\n",
      " [34.8]\n",
      " [34. ]\n",
      " [30.9]\n",
      " [33.6]\n",
      " [35.5]\n",
      " [57.3]\n",
      " [24.2]\n",
      " [24.2]\n",
      " [44.6]\n",
      " [33.2]\n",
      " [24.1]\n",
      " [46.1]\n",
      " [39.1]\n",
      " [38.5]\n",
      " [30.4]\n",
      " [29.9]\n",
      " [34.5]\n",
      " [35.9]\n",
      " [28.4]\n",
      " [34.4]\n",
      " [38. ]\n",
      " [31.2]\n",
      " [29.6]\n",
      " [26.4]\n",
      " [33.9]\n",
      " [33.8]\n",
      " [35.5]\n",
      " [38.1]\n",
      " [29.3]\n",
      " [39.1]\n",
      " [36.1]\n",
      " [28.4]\n",
      " [44.5]\n",
      " [29. ]\n",
      " [27.4]\n",
      " [36.6]\n",
      " [42.3]\n",
      " [30.8]\n",
      " [28.5]\n",
      " [40.6]\n",
      " [30. ]\n",
      " [46.3]\n",
      " [36.4]\n",
      " [39. ]\n",
      " [43.3]\n",
      " [36.5]\n",
      " [28.4]\n",
      " [32.9]\n",
      " [26.2]]\n"
     ]
    }
   ],
   "source": [
    "X_bmi = X_bmi.reshape(-1,1)\n",
    "print(X_bmi.shape)\n",
    "print(X_bmi)"
   ]
  },
  {
   "cell_type": "markdown",
   "metadata": {},
   "source": [
    "### Предсказание по одной переменной (инсулин)"
   ]
  },
  {
   "cell_type": "code",
   "execution_count": 51,
   "metadata": {},
   "outputs": [
    {
     "name": "stdout",
     "output_type": "stream",
     "text": [
      "(392,) (392,)\n",
      "[ 94. 168.  88. 543. 846. 175. 230.  83.  96. 235. 146. 115. 140. 110.\n",
      " 245.  54. 192. 207.  70. 240.  82.  36.  23. 300. 342. 304. 110. 142.\n",
      " 128.  38. 100.  90. 140. 270.  71. 125.  71. 110. 176.  48.  64. 228.\n",
      "  76.  64. 220.  40. 152. 140.  18.  36. 135. 495.  37. 175.  51. 100.\n",
      " 100.  99. 135.  94. 145. 168. 225.  49. 140.  50.  92. 325.  63. 284.\n",
      " 119. 204. 155. 485.  94. 135.  53. 114. 105. 285. 156.  78. 130.  48.\n",
      "  55. 130. 130.  92. 495.  58. 114. 160.  94. 210.  48.  99. 318.  44.\n",
      " 190. 280.  87. 130. 175. 271. 129. 120. 478. 190.  56.  32. 744.  53.\n",
      " 370.  37.  45. 192.  88. 176. 194. 680. 402.  55. 258. 375. 150. 130.\n",
      "  67.  56.  45.  57. 116. 278. 122. 155. 135. 545. 220.  49.  75.  40.\n",
      "  74. 182. 194. 120. 360. 215. 184. 135.  42. 105. 132. 148. 180. 205.\n",
      " 148.  96.  85.  94.  64. 140. 231.  29. 168. 156. 120.  68.  52.  58.\n",
      " 255. 171. 105.  73. 108.  83.  74.  43. 167.  54. 249. 325. 293.  83.\n",
      "  66. 140. 465.  66.  94. 158. 325.  84.  75.  72.  82. 182.  59. 110.\n",
      "  50. 285.  81. 196. 415.  87. 275. 115.  88. 165. 579. 176. 310.  61.\n",
      " 167. 474. 115. 170.  76.  78. 210. 277. 180. 145. 180.  85.  60.  50.\n",
      " 120.  14.  70.  92.  64.  63.  95. 210. 105.  71. 237.  60.  56.  49.\n",
      " 105.  36. 100. 140. 191. 110.  75. 328.  49. 125. 250. 480. 265.  66.\n",
      " 122.  76. 145. 193.  71.  79.  90. 170.  76. 210.  86. 105. 165. 326.\n",
      "  66. 130.  82. 105. 188. 106.  65.  56. 210. 155. 215. 190.  56.  76.\n",
      " 225. 207. 166.  67. 106.  44. 115. 215. 274.  77.  54.  88.  18. 126.\n",
      " 126. 165.  44. 120. 330.  63. 130. 600. 156. 140. 115. 230. 185.  25.\n",
      " 120. 126. 293.  41. 272. 182. 158. 194. 321. 144.  15. 160. 115.  54.\n",
      "  90. 183.  66.  91.  46. 105. 152. 440. 144. 159. 130. 100. 106.  77.\n",
      " 135. 540.  90. 200.  70. 231. 130. 132. 190. 100. 168.  49. 240. 265.\n",
      "  45. 105. 205. 180. 180.  95. 125. 480. 125. 155. 200. 100. 335. 160.\n",
      " 387.  22. 291. 392. 185. 178. 200. 127. 105. 180.  79. 120. 165. 120.\n",
      " 160. 150.  94. 116. 140. 105.  57. 200.  74. 510. 110.  16. 180. 112.]\n"
     ]
    }
   ],
   "source": [
    "X_in = X[:, 3]\n",
    "print(y.shape, X_in.shape)\n",
    "print(X_in)"
   ]
  },
  {
   "cell_type": "code",
   "execution_count": 52,
   "metadata": {},
   "outputs": [
    {
     "name": "stdout",
     "output_type": "stream",
     "text": [
      "(392, 1)\n",
      "[[ 94.]\n",
      " [168.]\n",
      " [ 88.]\n",
      " [543.]\n",
      " [846.]\n",
      " [175.]\n",
      " [230.]\n",
      " [ 83.]\n",
      " [ 96.]\n",
      " [235.]\n",
      " [146.]\n",
      " [115.]\n",
      " [140.]\n",
      " [110.]\n",
      " [245.]\n",
      " [ 54.]\n",
      " [192.]\n",
      " [207.]\n",
      " [ 70.]\n",
      " [240.]\n",
      " [ 82.]\n",
      " [ 36.]\n",
      " [ 23.]\n",
      " [300.]\n",
      " [342.]\n",
      " [304.]\n",
      " [110.]\n",
      " [142.]\n",
      " [128.]\n",
      " [ 38.]\n",
      " [100.]\n",
      " [ 90.]\n",
      " [140.]\n",
      " [270.]\n",
      " [ 71.]\n",
      " [125.]\n",
      " [ 71.]\n",
      " [110.]\n",
      " [176.]\n",
      " [ 48.]\n",
      " [ 64.]\n",
      " [228.]\n",
      " [ 76.]\n",
      " [ 64.]\n",
      " [220.]\n",
      " [ 40.]\n",
      " [152.]\n",
      " [140.]\n",
      " [ 18.]\n",
      " [ 36.]\n",
      " [135.]\n",
      " [495.]\n",
      " [ 37.]\n",
      " [175.]\n",
      " [ 51.]\n",
      " [100.]\n",
      " [100.]\n",
      " [ 99.]\n",
      " [135.]\n",
      " [ 94.]\n",
      " [145.]\n",
      " [168.]\n",
      " [225.]\n",
      " [ 49.]\n",
      " [140.]\n",
      " [ 50.]\n",
      " [ 92.]\n",
      " [325.]\n",
      " [ 63.]\n",
      " [284.]\n",
      " [119.]\n",
      " [204.]\n",
      " [155.]\n",
      " [485.]\n",
      " [ 94.]\n",
      " [135.]\n",
      " [ 53.]\n",
      " [114.]\n",
      " [105.]\n",
      " [285.]\n",
      " [156.]\n",
      " [ 78.]\n",
      " [130.]\n",
      " [ 48.]\n",
      " [ 55.]\n",
      " [130.]\n",
      " [130.]\n",
      " [ 92.]\n",
      " [495.]\n",
      " [ 58.]\n",
      " [114.]\n",
      " [160.]\n",
      " [ 94.]\n",
      " [210.]\n",
      " [ 48.]\n",
      " [ 99.]\n",
      " [318.]\n",
      " [ 44.]\n",
      " [190.]\n",
      " [280.]\n",
      " [ 87.]\n",
      " [130.]\n",
      " [175.]\n",
      " [271.]\n",
      " [129.]\n",
      " [120.]\n",
      " [478.]\n",
      " [190.]\n",
      " [ 56.]\n",
      " [ 32.]\n",
      " [744.]\n",
      " [ 53.]\n",
      " [370.]\n",
      " [ 37.]\n",
      " [ 45.]\n",
      " [192.]\n",
      " [ 88.]\n",
      " [176.]\n",
      " [194.]\n",
      " [680.]\n",
      " [402.]\n",
      " [ 55.]\n",
      " [258.]\n",
      " [375.]\n",
      " [150.]\n",
      " [130.]\n",
      " [ 67.]\n",
      " [ 56.]\n",
      " [ 45.]\n",
      " [ 57.]\n",
      " [116.]\n",
      " [278.]\n",
      " [122.]\n",
      " [155.]\n",
      " [135.]\n",
      " [545.]\n",
      " [220.]\n",
      " [ 49.]\n",
      " [ 75.]\n",
      " [ 40.]\n",
      " [ 74.]\n",
      " [182.]\n",
      " [194.]\n",
      " [120.]\n",
      " [360.]\n",
      " [215.]\n",
      " [184.]\n",
      " [135.]\n",
      " [ 42.]\n",
      " [105.]\n",
      " [132.]\n",
      " [148.]\n",
      " [180.]\n",
      " [205.]\n",
      " [148.]\n",
      " [ 96.]\n",
      " [ 85.]\n",
      " [ 94.]\n",
      " [ 64.]\n",
      " [140.]\n",
      " [231.]\n",
      " [ 29.]\n",
      " [168.]\n",
      " [156.]\n",
      " [120.]\n",
      " [ 68.]\n",
      " [ 52.]\n",
      " [ 58.]\n",
      " [255.]\n",
      " [171.]\n",
      " [105.]\n",
      " [ 73.]\n",
      " [108.]\n",
      " [ 83.]\n",
      " [ 74.]\n",
      " [ 43.]\n",
      " [167.]\n",
      " [ 54.]\n",
      " [249.]\n",
      " [325.]\n",
      " [293.]\n",
      " [ 83.]\n",
      " [ 66.]\n",
      " [140.]\n",
      " [465.]\n",
      " [ 66.]\n",
      " [ 94.]\n",
      " [158.]\n",
      " [325.]\n",
      " [ 84.]\n",
      " [ 75.]\n",
      " [ 72.]\n",
      " [ 82.]\n",
      " [182.]\n",
      " [ 59.]\n",
      " [110.]\n",
      " [ 50.]\n",
      " [285.]\n",
      " [ 81.]\n",
      " [196.]\n",
      " [415.]\n",
      " [ 87.]\n",
      " [275.]\n",
      " [115.]\n",
      " [ 88.]\n",
      " [165.]\n",
      " [579.]\n",
      " [176.]\n",
      " [310.]\n",
      " [ 61.]\n",
      " [167.]\n",
      " [474.]\n",
      " [115.]\n",
      " [170.]\n",
      " [ 76.]\n",
      " [ 78.]\n",
      " [210.]\n",
      " [277.]\n",
      " [180.]\n",
      " [145.]\n",
      " [180.]\n",
      " [ 85.]\n",
      " [ 60.]\n",
      " [ 50.]\n",
      " [120.]\n",
      " [ 14.]\n",
      " [ 70.]\n",
      " [ 92.]\n",
      " [ 64.]\n",
      " [ 63.]\n",
      " [ 95.]\n",
      " [210.]\n",
      " [105.]\n",
      " [ 71.]\n",
      " [237.]\n",
      " [ 60.]\n",
      " [ 56.]\n",
      " [ 49.]\n",
      " [105.]\n",
      " [ 36.]\n",
      " [100.]\n",
      " [140.]\n",
      " [191.]\n",
      " [110.]\n",
      " [ 75.]\n",
      " [328.]\n",
      " [ 49.]\n",
      " [125.]\n",
      " [250.]\n",
      " [480.]\n",
      " [265.]\n",
      " [ 66.]\n",
      " [122.]\n",
      " [ 76.]\n",
      " [145.]\n",
      " [193.]\n",
      " [ 71.]\n",
      " [ 79.]\n",
      " [ 90.]\n",
      " [170.]\n",
      " [ 76.]\n",
      " [210.]\n",
      " [ 86.]\n",
      " [105.]\n",
      " [165.]\n",
      " [326.]\n",
      " [ 66.]\n",
      " [130.]\n",
      " [ 82.]\n",
      " [105.]\n",
      " [188.]\n",
      " [106.]\n",
      " [ 65.]\n",
      " [ 56.]\n",
      " [210.]\n",
      " [155.]\n",
      " [215.]\n",
      " [190.]\n",
      " [ 56.]\n",
      " [ 76.]\n",
      " [225.]\n",
      " [207.]\n",
      " [166.]\n",
      " [ 67.]\n",
      " [106.]\n",
      " [ 44.]\n",
      " [115.]\n",
      " [215.]\n",
      " [274.]\n",
      " [ 77.]\n",
      " [ 54.]\n",
      " [ 88.]\n",
      " [ 18.]\n",
      " [126.]\n",
      " [126.]\n",
      " [165.]\n",
      " [ 44.]\n",
      " [120.]\n",
      " [330.]\n",
      " [ 63.]\n",
      " [130.]\n",
      " [600.]\n",
      " [156.]\n",
      " [140.]\n",
      " [115.]\n",
      " [230.]\n",
      " [185.]\n",
      " [ 25.]\n",
      " [120.]\n",
      " [126.]\n",
      " [293.]\n",
      " [ 41.]\n",
      " [272.]\n",
      " [182.]\n",
      " [158.]\n",
      " [194.]\n",
      " [321.]\n",
      " [144.]\n",
      " [ 15.]\n",
      " [160.]\n",
      " [115.]\n",
      " [ 54.]\n",
      " [ 90.]\n",
      " [183.]\n",
      " [ 66.]\n",
      " [ 91.]\n",
      " [ 46.]\n",
      " [105.]\n",
      " [152.]\n",
      " [440.]\n",
      " [144.]\n",
      " [159.]\n",
      " [130.]\n",
      " [100.]\n",
      " [106.]\n",
      " [ 77.]\n",
      " [135.]\n",
      " [540.]\n",
      " [ 90.]\n",
      " [200.]\n",
      " [ 70.]\n",
      " [231.]\n",
      " [130.]\n",
      " [132.]\n",
      " [190.]\n",
      " [100.]\n",
      " [168.]\n",
      " [ 49.]\n",
      " [240.]\n",
      " [265.]\n",
      " [ 45.]\n",
      " [105.]\n",
      " [205.]\n",
      " [180.]\n",
      " [180.]\n",
      " [ 95.]\n",
      " [125.]\n",
      " [480.]\n",
      " [125.]\n",
      " [155.]\n",
      " [200.]\n",
      " [100.]\n",
      " [335.]\n",
      " [160.]\n",
      " [387.]\n",
      " [ 22.]\n",
      " [291.]\n",
      " [392.]\n",
      " [185.]\n",
      " [178.]\n",
      " [200.]\n",
      " [127.]\n",
      " [105.]\n",
      " [180.]\n",
      " [ 79.]\n",
      " [120.]\n",
      " [165.]\n",
      " [120.]\n",
      " [160.]\n",
      " [150.]\n",
      " [ 94.]\n",
      " [116.]\n",
      " [140.]\n",
      " [105.]\n",
      " [ 57.]\n",
      " [200.]\n",
      " [ 74.]\n",
      " [510.]\n",
      " [110.]\n",
      " [ 16.]\n",
      " [180.]\n",
      " [112.]]\n"
     ]
    }
   ],
   "source": [
    "X_in = X_in.reshape(-1,1)\n",
    "print(X_in.shape)\n",
    "print(X_in)"
   ]
  },
  {
   "cell_type": "markdown",
   "metadata": {},
   "source": [
    "### Просмотр данных (глюкоза/BMI)"
   ]
  },
  {
   "cell_type": "code",
   "execution_count": 53,
   "metadata": {},
   "outputs": [
    {
     "data": {
      "image/png": "[encoded data removed]",
      "text/plain": [
       "<Figure size 640x480 with 1 Axes>"
      ]
     },
     "metadata": {},
     "output_type": "display_data"
    }
   ],
   "source": [
    "import matplotlib.pyplot as plt\n",
    "plt.scatter(X_bmi, y)\n",
    "plt.ylabel(\"Уровень глюкозы в крови\")\n",
    "plt.xlabel(\"BMI\")\n",
    "plt.show()"
   ]
  },
  {
   "cell_type": "markdown",
   "metadata": {},
   "source": [
    "### Создание модели"
   ]
  },
  {
   "cell_type": "code",
   "execution_count": 54,
   "metadata": {},
   "outputs": [
    {
     "data": {
      "image/png": "[encoded data removed]",
      "text/plain": [
       "<Figure size 640x480 with 1 Axes>"
      ]
     },
     "metadata": {},
     "output_type": "display_data"
    }
   ],
   "source": [
    "from sklearn.linear_model import LinearRegression\n",
    "reg = LinearRegression()\n",
    "reg.fit(X_bmi, y)\n",
    "predictions = reg.predict(X_bmi)\n",
    "plt.scatter(X_bmi, y)\n",
    "plt.plot(X_bmi, predictions, color=\"darkred\")\n",
    "plt.ylabel(\"Уровень глюкозы в крови\")\n",
    "plt.xlabel(\"BMI\")\n",
    "plt.show()"
   ]
  },
  {
   "cell_type": "markdown",
   "metadata": {},
   "source": [
    "### Просмотр данных (глюкоза/инсулин)"
   ]
  },
  {
   "cell_type": "code",
   "execution_count": 55,
   "metadata": {},
   "outputs": [
    {
     "data": {
      "image/png": "[encoded data removed]",
      "text/plain": [
       "<Figure size 640x480 with 1 Axes>"
      ]
     },
     "metadata": {},
     "output_type": "display_data"
    }
   ],
   "source": [
    "import matplotlib.pyplot as plt\n",
    "plt.scatter(X_in, y)\n",
    "plt.ylabel(\"Уровень глюкозы в крови\")\n",
    "plt.xlabel(\"Инсулин\")\n",
    "plt.show()"
   ]
  },
  {
   "cell_type": "markdown",
   "metadata": {},
   "source": [
    "### Создание модели (инсулин)"
   ]
  },
  {
   "cell_type": "code",
   "execution_count": 56,
   "metadata": {},
   "outputs": [
    {
     "data": {
      "image/png": "[encoded data removed]",
      "text/plain": [
       "<Figure size 640x480 with 1 Axes>"
      ]
     },
     "metadata": {},
     "output_type": "display_data"
    }
   ],
   "source": [
    "from sklearn.linear_model import LinearRegression\n",
    "reg = LinearRegression()\n",
    "reg.fit(X_in, y)\n",
    "predictions = reg.predict(X_in)\n",
    "plt.scatter(X_in, y)\n",
    "plt.plot(X_in, predictions, color=\"darkred\")\n",
    "plt.ylabel(\"Уровень глюкозы в крови\")\n",
    "plt.xlabel(\"Инсулин\")\n",
    "plt.show()"
   ]
  },
  {
   "cell_type": "markdown",
   "metadata": {},
   "source": [
    "### Линейная регрессия для множества признаков"
   ]
  },
  {
   "cell_type": "code",
   "execution_count": 57,
   "metadata": {},
   "outputs": [
    {
     "name": "stdout",
     "output_type": "stream",
     "text": [
      "[-0.21225453  0.1381534  -0.05680247  0.10401044 -0.03093424 -0.72168597\n",
      "  0.31602843 23.23106927]\n"
     ]
    }
   ],
   "source": [
    "from sklearn.model_selection import train_test_split\n",
    "from sklearn.linear_model import LinearRegression\n",
    "X_train, X_test, y_train, y_test = train_test_split(X, y, test_size=0.3, random_state=42)\n",
    "reg_all = LinearRegression()\n",
    "reg_all.fit(X_train, y_train).coef\n",
    "y_pred = reg_all.predict(X_test)"
   ]
  },
  {
   "cell_type": "markdown",
   "metadata": {},
   "source": [
    "### Оценка R-квадрат"
   ]
  },
  {
   "cell_type": "code",
   "execution_count": 58,
   "metadata": {},
   "outputs": [
    {
     "data": {
      "text/plain": [
       "0.5094667868757332"
      ]
     },
     "execution_count": 58,
     "metadata": {},
     "output_type": "execute_result"
    }
   ],
   "source": [
    "reg_all.score(X_test, y_test)"
   ]
  },
  {
   "cell_type": "markdown",
   "metadata": {},
   "source": [
    "RMSE"
   ]
  },
  {
   "cell_type": "code",
   "execution_count": 59,
   "metadata": {},
   "outputs": [
    {
     "data": {
      "text/plain": [
       "22.14632133316733"
      ]
     },
     "execution_count": 59,
     "metadata": {},
     "output_type": "execute_result"
    }
   ],
   "source": [
    "from sklearn.metrics import mean_squared_error\n",
    "mean_squared_error(y_test, y_pred, squared=False)"
   ]
  },
  {
   "cell_type": "markdown",
   "metadata": {},
   "source": [
    "### Кросвалидация"
   ]
  },
  {
   "cell_type": "code",
   "execution_count": 60,
   "metadata": {},
   "outputs": [],
   "source": [
    "from sklearn.model_selection import cross_val_score, KFold\n",
    "kf = KFold(n_splits = 12, shuffle=True, random_state=42)\n",
    "reg = LinearRegression()\n",
    "cv_results = cross_val_score(reg, X, y, cv = kf)"
   ]
  },
  {
   "cell_type": "code",
   "execution_count": 61,
   "metadata": {},
   "outputs": [
    {
     "name": "stdout",
     "output_type": "stream",
     "text": [
      "[0.59471227 0.49919026 0.45133364 0.45710556 0.3220995  0.17991901\n",
      " 0.41302036 0.52064279 0.48913975 0.50980929 0.46960942 0.46664601]\n"
     ]
    }
   ],
   "source": [
    "print(cv_results)"
   ]
  },
  {
   "cell_type": "code",
   "execution_count": 62,
   "metadata": {},
   "outputs": [
    {
     "name": "stdout",
     "output_type": "stream",
     "text": [
      "0.44776898726615166 0.10197415023368388\n"
     ]
    }
   ],
   "source": [
    "print(np.mean(cv_results), np.std(cv_results))"
   ]
  },
  {
   "cell_type": "code",
   "execution_count": 63,
   "metadata": {},
   "outputs": [
    {
     "name": "stdout",
     "output_type": "stream",
     "text": [
      "[0.21901864 0.57434316]\n"
     ]
    }
   ],
   "source": [
    "print(np.quantile(cv_results, [0.025, 0.975]))"
   ]
  },
  {
   "cell_type": "markdown",
   "metadata": {},
   "source": [
    "### Гребневая регрессия"
   ]
  },
  {
   "cell_type": "code",
   "execution_count": 64,
   "metadata": {},
   "outputs": [
    {
     "name": "stdout",
     "output_type": "stream",
     "text": [
      "[0.509576405884622, 0.510493224165769, 0.5148218853400626, 0.49261795851053347, 0.4588698098088013]\n"
     ]
    }
   ],
   "source": [
    "from sklearn.linear_model import Ridge\n",
    "scores = []\n",
    "for alpha in [0.1, 1, 10, 100, 1000]:\n",
    "    ridge = Ridge(alpha=alpha)\n",
    "    ridge.fit(X_train, y_train)\n",
    "    y_pred = ridge.predict(X_test)\n",
    "    scores.append(ridge.score(X_test, y_test))\n",
    "print(scores)"
   ]
  },
  {
   "cell_type": "markdown",
   "metadata": {},
   "source": [
    "### Лассо регрессия"
   ]
  },
  {
   "cell_type": "code",
   "execution_count": 65,
   "metadata": {},
   "outputs": [
    {
     "name": "stdout",
     "output_type": "stream",
     "text": [
      "[0.5096772969868644, 0.5111484584535526, 0.514524365485503, 0.44260019941345585, 0.4312044757453073, 0.38888803499352564]\n"
     ]
    }
   ],
   "source": [
    "from sklearn.linear_model import Lasso\n",
    "scores = []\n",
    "for alpha in [0.01, 0.1, 1, 10, 20, 50]:\n",
    "    lasso = Lasso(alpha=alpha)\n",
    "    lasso.fit(X_train, y_train)\n",
    "    y_pred = lasso.predict(X_test)\n",
    "    scores.append(lasso.score(X_test, y_test))\n",
    "print(scores)\n"
   ]
  },
  {
   "cell_type": "markdown",
   "metadata": {},
   "source": [
    "### Выбор признаков с помощью лассо регрессии"
   ]
  },
  {
   "cell_type": "code",
   "execution_count": 66,
   "metadata": {},
   "outputs": [
    {
     "data": {
      "image/png": "[encoded data removed]",
      "text/plain": [
       "<Figure size 640x480 with 1 Axes>"
      ]
     },
     "metadata": {},
     "output_type": "display_data"
    }
   ],
   "source": [
    "from sklearn.linear_model import Lasso\n",
    "X = diabetes_df.drop(\"glucose\", axis=1).values\n",
    "y = diabetes_df[\"glucose\"]\n",
    "names = diabetes_df.drop(\"glucose\", axis=1).columns\n",
    "lasso = Lasso(alpha=0.1)\n",
    "lasso_coef = lasso.fit(X,y).coef_\n",
    "plt.bar(names, lasso_coef)\n",
    "plt.xticks(rotation=45)\n",
    "plt.show()"
   ]
  }
 ],
 "metadata": {
  "kernelspec": {
   "display_name": "base",
   "language": "python",
   "name": "python3"
  },
  "language_info": {
   "codemirror_mode": {
    "name": "ipython",
    "version": 3
   },
   "file_extension": ".py",
   "mimetype": "text/x-python",
   "name": "python",
   "nbconvert_exporter": "python",
   "pygments_lexer": "ipython3",
   "version": "3.11.5"
  }
 },
 "nbformat": 4,
 "nbformat_minor": 2
}
